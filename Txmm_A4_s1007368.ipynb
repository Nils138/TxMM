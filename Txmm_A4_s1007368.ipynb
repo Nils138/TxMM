{
 "cells": [
  {
   "cell_type": "markdown",
   "id": "23e464e4",
   "metadata": {},
   "source": [
    "# A4: Authorship"
   ]
  },
  {
   "cell_type": "code",
   "execution_count": 10,
   "id": "87120e13",
   "metadata": {},
   "outputs": [],
   "source": [
    "from nltk.corpus import stopwords\n",
    "from nltk.tokenize import wordpunct_tokenize, sent_tokenize\n",
    "from nltk import ngrams, pos_tag\n",
    "import nltk\n",
    "import sklearn.datasets\n",
    "import sklearn.metrics\n",
    "import sklearn.model_selection\n",
    "from sklearn.feature_extraction import DictVectorizer\n",
    "from sklearn.svm import SVC\n",
    "import numpy as np\n",
    "from string import punctuation, ascii_uppercase"
   ]
  },
  {
   "cell_type": "code",
   "execution_count": 2,
   "id": "91b3447a",
   "metadata": {},
   "outputs": [
    {
     "name": "stderr",
     "output_type": "stream",
     "text": [
      "[nltk_data] Downloading package stopwords to\n",
      "[nltk_data]     C:\\Users\\Nils\\AppData\\Roaming\\nltk_data...\n",
      "[nltk_data]   Package stopwords is already up-to-date!\n",
      "[nltk_data] Downloading package punkt to\n",
      "[nltk_data]     C:\\Users\\Nils\\AppData\\Roaming\\nltk_data...\n",
      "[nltk_data]   Package punkt is already up-to-date!\n",
      "[nltk_data] Downloading package averaged_perceptron_tagger to\n",
      "[nltk_data]     C:\\Users\\Nils\\AppData\\Roaming\\nltk_data...\n",
      "[nltk_data]   Package averaged_perceptron_tagger is already up-to-\n",
      "[nltk_data]       date!\n"
     ]
    }
   ],
   "source": [
    "# Download the 'stopwords' and 'punkt' from the Natural Language Toolkit, you can comment the next lines if already present.\n",
    "nltk.download('stopwords')\n",
    "nltk.download('punkt')\n",
    "nltk.download('averaged_perceptron_tagger')\n",
    "stop_words = set(stopwords.words('english'))"
   ]
  },
  {
   "cell_type": "code",
   "execution_count": 3,
   "id": "d3115677",
   "metadata": {},
   "outputs": [],
   "source": [
    "# Load the dataset into memory from the filesystem\n",
    "def load_data(dir_name):\n",
    "    return sklearn.datasets.load_files('data/%s' % dir_name, encoding='utf-8')\n",
    "\n",
    "\n",
    "def load_train_data():\n",
    "    return load_data('train')\n",
    "\n",
    "\n",
    "def load_test_data():\n",
    "    return load_data('test')"
   ]
  },
  {
   "cell_type": "code",
   "execution_count": 4,
   "id": "f0c3649a",
   "metadata": {},
   "outputs": [],
   "source": [
    "# Classify using the features\n",
    "def classify(train_features, train_labels, test_features):\n",
    "    clf = SVC(kernel='linear')\n",
    "    clf.fit(train_features, train_labels)\n",
    "    return clf.predict(test_features)"
   ]
  },
  {
   "cell_type": "code",
   "execution_count": 5,
   "id": "c6abe202",
   "metadata": {},
   "outputs": [],
   "source": [
    "# Evaluate predictions (y_pred) given the ground truth (y_true)\n",
    "def evaluate(y_true, y_pred):\n",
    "    # TODO: What is being evaluated here and what does it say about the performance? Include or change the evaluation\n",
    "    # TODO: if necessary.\n",
    "    # A: y_true is the actual author, while y_pred is the predicted author by the program. These values are fairly \n",
    "    # representative about the quality of a classifier and the features.\n",
    "    recall = sklearn.metrics.recall_score(y_true, y_pred, average='macro')\n",
    "    print(\"Recall: %f\" % recall)\n",
    "\n",
    "    precision = sklearn.metrics.precision_score(y_true, y_pred, average='macro')\n",
    "    print(\"Precision: %f\" % precision)\n",
    "\n",
    "    f1_score = sklearn.metrics.f1_score(y_true, y_pred, average='macro')\n",
    "    print(\"F1-score: %f\" % f1_score)\n",
    "\n",
    "    return recall, precision, f1_score"
   ]
  },
  {
   "cell_type": "code",
   "execution_count": 116,
   "id": "fdf100b5",
   "metadata": {},
   "outputs": [],
   "source": [
    "# Extract features from a given text\n",
    "def extract_features(text):\n",
    "    bag_of_words = [x for x in wordpunct_tokenize(text)]\n",
    "    sentences = [x for x in sent_tokenize(text)]\n",
    "\n",
    "    features = []\n",
    "\n",
    "    # Example feature 1: count the number of words\n",
    "    features.append(len(bag_of_words))\n",
    "    \n",
    "    # Example feature 2: count the number of words, excluded the stopwords\n",
    "    no_stopwords = [x for x in bag_of_words if x.lower() not in stop_words]\n",
    "    features.append(len(no_stopwords))\n",
    "\n",
    "    # Feature 2-4: take top k most frequent word counts\n",
    "    k = 3\n",
    "    freq_dict = {i:no_stopwords.count(i) for i in set(no_stopwords)}\n",
    "    features.extend(sorted(freq_dict.values(), reverse=True)[:k])\n",
    "    n = k - len(freq_dict)\n",
    "    while n > 0:\n",
    "        features.append(0)\n",
    "        n -= 1\n",
    "    \n",
    "    # Feature 5: number of stopwords\n",
    "    features.append(len([x for x in bag_of_words if x.lower() in stop_words]))\n",
    "    \n",
    "    # Feature 6: average sentence length\n",
    "    sentence_lengths = [len(x) for x in sentences]\n",
    "    features.append(sum(sentence_lengths) / len(sentence_lengths))\n",
    "    \n",
    "    # Feature 7-24: top m most frequent characters\n",
    "    m = 17\n",
    "    chars = list(text)\n",
    "    char_dict = {i:chars.count(i) for i in set(chars)}\n",
    "    #features.extend(sorted(char_dict.values(), reverse=True)[:m])\n",
    "    #n = m - len(char_dict)\n",
    "    #while n > 0:\n",
    "    #    features.append(0)\n",
    "    #    n -= 1\n",
    "        \n",
    "    # Total character length\n",
    "    features.append(len(chars))\n",
    "    \n",
    "    # Feature 25-38: most frequent n-grams\n",
    "    n = 4\n",
    "    L = 13\n",
    "    n_grams = []\n",
    "    for gram in ngrams(bag_of_words, n):  # I hate this, why doesn't ngrams() return a list but a generator \n",
    "        n_grams.append(gram)\n",
    "    ngram_dict = sorted({i:n_grams.count(i) for i in set(n_grams)}.values(), reverse=True)\n",
    "    features.extend(ngram_dict[:L])\n",
    "    n = L - len(ngram_dict)\n",
    "    while n > 0:\n",
    "        print(\"L\")\n",
    "        features.append(0)\n",
    "        n -= 1\n",
    "    \n",
    "    # Feature 195-204: N-grams 2: Electric Boogaloo\n",
    "    n = 2\n",
    "    L = 9\n",
    "    n_grams = []\n",
    "    for gram in ngrams(bag_of_words, n):  # I hate this, why doesn't ngrams() return a list but a generator \n",
    "        n_grams.append(gram)\n",
    "    features.extend(sorted({i:n_grams.count(i) for i in set(n_grams)}.values(), reverse=True)[:L])\n",
    "    n = L - len(n_grams)\n",
    "    while n > 0:\n",
    "        features.append(0)\n",
    "    \n",
    "    # Feature 205-207: N-grams 3: Tokyo Drift\n",
    "    n = 3\n",
    "    L = 2\n",
    "    n_grams = []\n",
    "    for gram in ngrams(bag_of_words, n):  # I hate this, why doesn't ngrams() return a list but a generator \n",
    "        n_grams.append(gram)\n",
    "    features.extend(sorted({i:n_grams.count(i) for i in set(n_grams)}.values(), reverse=True)[:L])\n",
    "    n = L - len(n_grams)\n",
    "    while n > 0:\n",
    "        features.append(0)\n",
    "        \n",
    "     # Feature 40-130: Function words frequency\n",
    "    function_words=\"a between in nor some upon about both including nothing somebody us above but inside of someone used after by into off something via all can is on such we although cos it once than what am do its one that whatever among down latter onto the when an each less opposite their where and either like or them whether another enough little our these which any every lots outside they while anybody everybody many over this who anyone everyone me own those whoever anything everything more past though whom are few most per through whose around following much plenty till will as for must plus to with at from my regarding toward within be have near same towards without because he need several under worth before her neither she unless would behind him no should unlike yes below i nobody since until you beside if none so up your\"\n",
    "    function_words = function_words.split(\" \")\n",
    "    p = 90\n",
    "    frequencies = []\n",
    "    for i in range(p):\n",
    "        key = function_words[i]\n",
    "        frequencies.append(freq_dict.get(function_words[i]) if key in freq_dict else 0)\n",
    "    features.extend(frequencies)\n",
    "    \n",
    "    # Feature 133-156: Pos tag frequencies\n",
    "    pos_tags = [y for x, y in nltk.pos_tag(bag_of_words)]\n",
    "    q = 23\n",
    "    pos_dict = sorted({i:pos_tags.count(i) for i in set(pos_tags)}.values(), reverse=True)\n",
    "    features.extend(pos_dict[:q])\n",
    "    n = q - len(pos_dict)\n",
    "    while n > 0:\n",
    "        features.append(0)\n",
    "        n -= 1\n",
    "        \n",
    "    # Feature 39: Punctuation\n",
    "    features.append(len(text.translate(str.maketrans('', '', punctuation))))\n",
    "    \n",
    "    # Feature 132: Question marks\n",
    "    features.append(char_dict.get('?') if '?' in char_dict else 0)\n",
    "    \n",
    "    # Feature 133: Semicolons\n",
    "    features.append(char_dict.get(';') if ';' in char_dict else 0)\n",
    "    \n",
    "    # Feature 133: Quotes\n",
    "    features.append(char_dict.get('\"') if '\"' in char_dict else 0)\n",
    "    features.append(char_dict.get(\"'\") if \"'\" in char_dict else 0)\n",
    "    \n",
    "    # Feature 133: Semicolons\n",
    "    features.append(char_dict.get('/') if '/' in char_dict else 0)\n",
    "    \n",
    "    # Feature 133: Semicolons\n",
    "    features.append(char_dict.get('(') if '(' in char_dict else 0)\n",
    "    features.append(char_dict.get(')') if ')' in char_dict else 0)\n",
    "    \n",
    "    # Mathematical symbols\n",
    "    features.append(char_dict.get('+') if '+' in char_dict else 0)\n",
    "    features.append(char_dict.get('-') if '-' in char_dict else 0)\n",
    "    features.append(char_dict.get('*') if '*' in char_dict else 0)\n",
    "    features.append(char_dict.get('=') if '=' in char_dict else 0)\n",
    "    \n",
    "    # Feature 184: Periods\n",
    "    features.append(char_dict.get('.') if '.' in char_dict else 0)\n",
    "    \n",
    "    # Feature 184: Tabs\n",
    "    features.append(char_dict.get('\\t') if '\\t' in char_dict else 0)\n",
    "    \n",
    "    # Feature 184: Whitespaces\n",
    "    features.append(char_dict.get('\\n') if '\\n' in char_dict else 0)\n",
    "    \n",
    "    # Feature 184: Commas\n",
    "    features.append(char_dict.get(',') if ',' in char_dict else 0)\n",
    "    \n",
    "    # Feature 184: Colons\n",
    "    features.append(char_dict.get(':') if ':' in char_dict else 0)\n",
    "    \n",
    "    # Feature 184: Spaces\n",
    "    features.append(char_dict.get(' ') if ' ' in char_dict else 0)\n",
    "    \n",
    "    # Numbers\n",
    "    digits = {i:chars.count(i) for i in set(chars) if i.isdigit()}\n",
    "    for c in ['0', '1', '2', '3', '4', '5', '6', '7', '8', '9']:\n",
    "        if not c in digits:\n",
    "            digits[c] = 0\n",
    "    features.extend(digits.values())\n",
    "        \n",
    "    # Feature 157-183: Capital letter counts\n",
    "    cap_raw = {i:chars.count(i) for i in set(chars) if i.isalpha() and i.isupper()}\n",
    "    capitals = {}\n",
    "    for c in ascii_uppercase:\n",
    "        if not c in cap_raw:\n",
    "            capitals[c] = 0\n",
    "        else:\n",
    "            capitals[c] = cap_raw[c]\n",
    "    features.extend(capitals.values())\n",
    "    \n",
    "    # Pos-Tags vectorized\n",
    "    q = 25\n",
    "    pos_dict = {x:y for x, y in nltk.pos_tag(bag_of_words)}        \n",
    "    vec = DictVectorizer()\n",
    "    ar = vec.fit_transform(pos_dict).toarray()[0]\n",
    "    features.extend(ar[:q])\n",
    "    n = q - len(ar)\n",
    "    while n > 0:\n",
    "        features.append(0)\n",
    "        n -= 1\n",
    "    \n",
    "    q = 25\n",
    "    pos_bag = nltk.pos_tag(bag_of_words)\n",
    "    pos_dict = {y:pos_bag.count(y) for x, y in pos_bag}        \n",
    "    vec = DictVectorizer()\n",
    "    ar = vec.fit_transform(pos_dict).toarray()[0]\n",
    "    features.extend(ar[:q])\n",
    "    n = q - len(ar)\n",
    "    while n > 0:\n",
    "        features.append(0)\n",
    "        n -= 1\n",
    "    \n",
    "    return features"
   ]
  },
  {
   "cell_type": "code",
   "execution_count": 117,
   "id": "bcd5ffcb",
   "metadata": {
    "scrolled": true
   },
   "outputs": [
    {
     "name": "stdout",
     "output_type": "stream",
     "text": [
      "Fold 1\n",
      "Recall: 0.544444\n",
      "Precision: 0.505556\n",
      "F1-score: 0.508148\n",
      "\n",
      "Fold 2\n"
     ]
    },
    {
     "name": "stderr",
     "output_type": "stream",
     "text": [
      "D:\\Anaconda\\envs\\TxMM\\lib\\site-packages\\sklearn\\metrics\\_classification.py:1308: UndefinedMetricWarning: Precision is ill-defined and being set to 0.0 in labels with no predicted samples. Use `zero_division` parameter to control this behavior.\n",
      "  _warn_prf(average, modifier, msg_start, len(result))\n",
      "D:\\Anaconda\\envs\\TxMM\\lib\\site-packages\\sklearn\\metrics\\_classification.py:1308: UndefinedMetricWarning: Precision is ill-defined and being set to 0.0 in labels with no predicted samples. Use `zero_division` parameter to control this behavior.\n",
      "  _warn_prf(average, modifier, msg_start, len(result))\n"
     ]
    },
    {
     "name": "stdout",
     "output_type": "stream",
     "text": [
      "Recall: 0.522222\n",
      "Precision: 0.481481\n",
      "F1-score: 0.479259\n",
      "\n",
      "Fold 3\n",
      "Recall: 0.533333\n",
      "Precision: 0.466667\n",
      "F1-score: 0.479259\n",
      "\n",
      "Fold 4\n"
     ]
    },
    {
     "name": "stderr",
     "output_type": "stream",
     "text": [
      "D:\\Anaconda\\envs\\TxMM\\lib\\site-packages\\sklearn\\metrics\\_classification.py:1308: UndefinedMetricWarning: Precision is ill-defined and being set to 0.0 in labels with no predicted samples. Use `zero_division` parameter to control this behavior.\n",
      "  _warn_prf(average, modifier, msg_start, len(result))\n",
      "D:\\Anaconda\\envs\\TxMM\\lib\\site-packages\\sklearn\\metrics\\_classification.py:1308: UndefinedMetricWarning: Precision is ill-defined and being set to 0.0 in labels with no predicted samples. Use `zero_division` parameter to control this behavior.\n",
      "  _warn_prf(average, modifier, msg_start, len(result))\n"
     ]
    },
    {
     "name": "stdout",
     "output_type": "stream",
     "text": [
      "Recall: 0.611111\n",
      "Precision: 0.481481\n",
      "F1-score: 0.514815\n",
      "\n",
      "Fold 5\n",
      "Recall: 0.622222\n",
      "Precision: 0.520370\n",
      "F1-score: 0.542963\n",
      "\n",
      "Fold 6\n"
     ]
    },
    {
     "name": "stderr",
     "output_type": "stream",
     "text": [
      "D:\\Anaconda\\envs\\TxMM\\lib\\site-packages\\sklearn\\metrics\\_classification.py:1308: UndefinedMetricWarning: Precision is ill-defined and being set to 0.0 in labels with no predicted samples. Use `zero_division` parameter to control this behavior.\n",
      "  _warn_prf(average, modifier, msg_start, len(result))\n",
      "D:\\Anaconda\\envs\\TxMM\\lib\\site-packages\\sklearn\\metrics\\_classification.py:1308: UndefinedMetricWarning: Precision is ill-defined and being set to 0.0 in labels with no predicted samples. Use `zero_division` parameter to control this behavior.\n",
      "  _warn_prf(average, modifier, msg_start, len(result))\n"
     ]
    },
    {
     "name": "stdout",
     "output_type": "stream",
     "text": [
      "Recall: 0.566667\n",
      "Precision: 0.488889\n",
      "F1-score: 0.496296\n",
      "\n",
      "Fold 7\n",
      "Recall: 0.555556\n",
      "Precision: 0.491481\n",
      "F1-score: 0.492593\n",
      "\n",
      "Fold 8\n"
     ]
    },
    {
     "name": "stderr",
     "output_type": "stream",
     "text": [
      "D:\\Anaconda\\envs\\TxMM\\lib\\site-packages\\sklearn\\metrics\\_classification.py:1308: UndefinedMetricWarning: Precision is ill-defined and being set to 0.0 in labels with no predicted samples. Use `zero_division` parameter to control this behavior.\n",
      "  _warn_prf(average, modifier, msg_start, len(result))\n",
      "D:\\Anaconda\\envs\\TxMM\\lib\\site-packages\\sklearn\\metrics\\_classification.py:1308: UndefinedMetricWarning: Precision is ill-defined and being set to 0.0 in labels with no predicted samples. Use `zero_division` parameter to control this behavior.\n",
      "  _warn_prf(average, modifier, msg_start, len(result))\n"
     ]
    },
    {
     "name": "stdout",
     "output_type": "stream",
     "text": [
      "Recall: 0.555556\n",
      "Precision: 0.483333\n",
      "F1-score: 0.499259\n",
      "\n",
      "Fold 9\n",
      "Recall: 0.555556\n",
      "Precision: 0.479630\n",
      "F1-score: 0.493333\n",
      "\n",
      "Fold 10\n"
     ]
    },
    {
     "name": "stderr",
     "output_type": "stream",
     "text": [
      "D:\\Anaconda\\envs\\TxMM\\lib\\site-packages\\sklearn\\metrics\\_classification.py:1308: UndefinedMetricWarning: Precision is ill-defined and being set to 0.0 in labels with no predicted samples. Use `zero_division` parameter to control this behavior.\n",
      "  _warn_prf(average, modifier, msg_start, len(result))\n",
      "D:\\Anaconda\\envs\\TxMM\\lib\\site-packages\\sklearn\\metrics\\_classification.py:1308: UndefinedMetricWarning: Precision is ill-defined and being set to 0.0 in labels with no predicted samples. Use `zero_division` parameter to control this behavior.\n",
      "  _warn_prf(average, modifier, msg_start, len(result))\n"
     ]
    },
    {
     "name": "stdout",
     "output_type": "stream",
     "text": [
      "Recall: 0.577778\n",
      "Precision: 0.507407\n",
      "F1-score: 0.522963\n",
      "\n",
      "Averaged total recall 0.5644444444444444\n",
      "Averaged total precision 0.49062962962962964\n",
      "Averaged total f-score 0.5028888888888889\n",
      "Recall: 0.578519\n",
      "Precision: 0.611720\n",
      "F1-score: 0.565844\n"
     ]
    },
    {
     "name": "stderr",
     "output_type": "stream",
     "text": [
      "D:\\Anaconda\\envs\\TxMM\\lib\\site-packages\\sklearn\\metrics\\_classification.py:1308: UndefinedMetricWarning: Precision is ill-defined and being set to 0.0 in labels with no predicted samples. Use `zero_division` parameter to control this behavior.\n",
      "  _warn_prf(average, modifier, msg_start, len(result))\n"
     ]
    },
    {
     "data": {
      "text/plain": [
       "(0.5785185185185185, 0.6117195767195768, 0.5658441558441559)"
      ]
     },
     "execution_count": 117,
     "metadata": {},
     "output_type": "execute_result"
    }
   ],
   "source": [
    "train_data = load_train_data()\n",
    "\n",
    "# Extract the features\n",
    "features = list(map(extract_features, train_data.data))\n",
    "\n",
    "# Classify and evaluate\n",
    "skf = sklearn.model_selection.StratifiedKFold(n_splits=10)\n",
    "scores = []\n",
    "for fold_id, (train_indexes, validation_indexes) in enumerate(skf.split(train_data.filenames, train_data.target)):\n",
    "    # Print the fold number\n",
    "    print(\"Fold %d\" % (fold_id + 1))\n",
    "\n",
    "    # Collect the data for this train/validation split\n",
    "    train_features = [features[x] for x in train_indexes]\n",
    "    train_labels = [train_data.target[x] for x in train_indexes]\n",
    "    validation_features = [features[x] for x in validation_indexes]\n",
    "    validation_labels = [train_data.target[x] for x in validation_indexes]\n",
    "\n",
    "    # Classify and add the scores to be able to average later\n",
    "    y_pred = classify(train_features, train_labels, validation_features)\n",
    "    scores.append(evaluate(validation_labels, y_pred))\n",
    "\n",
    "    # Print a newline\n",
    "    print(\"\")\n",
    "\n",
    "# Print the averaged score\n",
    "recall = sum([x[0] for x in scores]) / len(scores)\n",
    "print(\"Averaged total recall\", recall)\n",
    "precision = sum([x[1] for x in scores]) / len(scores)\n",
    "print(\"Averaged total precision\", precision)\n",
    "f_score = sum([x[2] for x in scores]) / len(scores)\n",
    "print(\"Averaged total f-score\", f_score)\n",
    "\n",
    "# TODO: Once you are done crafting your features and tuning your model, also test on the test set and report your\n",
    "# TODO: findings. How does the score differ from the validation score? And why do you think this is?\n",
    "test_data = load_test_data()\n",
    "test_features = list(map(extract_features, test_data.data))\n",
    "y_pred = classify(features, train_data.target, test_features)\n",
    "evaluate(test_data.target, y_pred)"
   ]
  },
  {
   "cell_type": "code",
   "execution_count": 125,
   "id": "0992da86",
   "metadata": {},
   "outputs": [
    {
     "name": "stdout",
     "output_type": "stream",
     "text": [
      "1 : None\n",
      "2 : Punctuation\n",
      "3 : Digits\n",
      "4 : Capitals\n",
      "5 : POS-tags\n",
      "6 : Function word frequency\n",
      "7 : N-gram frequency\n",
      "8 : Character frequency\n"
     ]
    },
    {
     "data": {
      "image/png": "[encoded data removed]",
      "text/plain": [
       "<Figure size 432x288 with 1 Axes>"
      ]
     },
     "metadata": {
      "needs_background": "light"
     },
     "output_type": "display_data"
    }
   ],
   "source": [
    "# Graphing\n",
    "import matplotlib.pyplot as plt\n",
    "Fscores = [0.53, 0.47, 0.52, 0.41, 0.44, 0.45, 0.45, 0.50]\n",
    "features = ['None', 'Punctuation', 'Digits', 'Capitals', 'POS-tags', 'Function word frequency', 'N-gram frequency', 'Character frequency']\n",
    "for i, f in enumerate(features):\n",
    "    print(i + 1, \":\", f)\n",
    "plt.title(\"Ablation analysis\")\n",
    "plt.bar(np.arange(1, len(features) + 1), Fscores)\n",
    "plt.xlabel(\"Removed feature\")\n",
    "plt.ylabel(\"F-score\")\n",
    "plt.show()"
   ]
  },
  {
   "cell_type": "code",
   "execution_count": null,
   "id": "2d003abe",
   "metadata": {},
   "outputs": [],
   "source": []
  }
 ],
 "metadata": {
  "kernelspec": {
   "display_name": "Python 3 (ipykernel)",
   "language": "python",
   "name": "python3"
  },
  "language_info": {
   "codemirror_mode": {
    "name": "ipython",
    "version": 3
   },
   "file_extension": ".py",
   "mimetype": "text/x-python",
   "name": "python",
   "nbconvert_exporter": "python",
   "pygments_lexer": "ipython3",
   "version": "3.9.6"
  }
 },
 "nbformat": 4,
 "nbformat_minor": 5
}
